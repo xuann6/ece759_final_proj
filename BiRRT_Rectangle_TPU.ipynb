# ===============================
# 🚀 Bidirectional RRT (Rectangle Obstacles, TPU Supported)
# ===============================

# 安装依赖
!pip install -q tensorflow matplotlib

# 导入库
import tensorflow as tf
import matplotlib.pyplot as plt

# 检查TPU环境
try:
    tpu = tf.distribute.cluster_resolver.TPUClusterResolver()
    tf.config.experimental_connect_to_cluster(tpu)
    tf.tpu.experimental.initialize_tpu_system(tpu)
    strategy = tf.distribute.TPUStrategy(tpu)
    print("Running on TPU")
except:
    strategy = tf.distribute.get_strategy()
    print("Running on CPU/GPU")

print("Number of accelerators:", strategy.num_replicas_in_sync)

# ===============================
# RRT with Rectangular Obstacles
# ===============================

class BiRRTWithRectObstacles:
    def __init__(self, start, goal, x_range, y_range, obstacles, step_size=0.05, connect_threshold=0.05, max_iterations=5000):
        self.start = tf.constant(start, dtype=tf.float32)
        self.goal = tf.constant(goal, dtype=tf.float32)
        self.x_range = x_range
        self.y_range = y_range
        self.obstacles = tf.constant(obstacles, dtype=tf.float32)
        self.step_size = step_size
        self.connect_threshold = connect_threshold
        self.max_iterations = max_iterations
        
        self.start_tree = [self.start.numpy()]
        self.start_parents = [-1]
        self.goal_tree = [self.goal.numpy()]
        self.goal_parents = [-1]

    def distance(self, a, b):
        return tf.norm(a - b, axis=-1)

    def sample(self):
        x = tf.random.uniform((), self.x_range[0], self.x_range[1])
        y = tf.random.uniform((), self.y_range[0], self.y_range[1])
        return tf.stack([x, y])

    def nearest(self, tree, point):
        tree_tensor = tf.convert_to_tensor(tree, dtype=tf.float32)
        distances = self.distance(tree_tensor, point)
        return tf.argmin(distances)

    def steer(self, from_node, to_node):
        direction = to_node - from_node
        dist = tf.norm(direction)
        if dist <= self.step_size:
            return to_node
        else:
            direction = direction / dist
            return from_node + direction * self.step_size

    def collision_check(self, point):
        x, y = point[0], point[1]
        inside_x = tf.logical_and(x >= self.obstacles[:, 0], x <= self.obstacles[:, 2])
        inside_y = tf.logical_and(y >= self.obstacles[:, 1], y <= self.obstacles[:, 3])
        inside = tf.logical_and(inside_x, inside_y)
        return tf.reduce_any(inside)

    def extend(self, tree, parents, random_point):
        nearest_idx = int(self.nearest(tree, random_point))
        nearest_node = tf.constant(tree[nearest_idx], dtype=tf.float32)
        new_node = self.steer(nearest_node, random_point)
        
        if self.collision_check(new_node):
            return False
        
        tree.append(new_node.numpy())
        parents.append(nearest_idx)
        return True

    def trees_connected(self, tree1, tree2):
        node1 = tf.constant(tree1[-1], dtype=tf.float32)
        tree2_tensor = tf.convert_to_tensor(tree2, dtype=tf.float32)
        distances = self.distance(tree2_tensor, node1)
        min_dist = tf.reduce_min(distances)
        min_idx = tf.argmin(distances)
        if min_dist <= self.connect_threshold:
            return True, int(min_idx)
        else:
            return False, -1

    def build_path(self, start_parents, goal_parents, meeting_idx):
        path = []
        idx = len(self.start_parents) - 1
        while idx != -1:
            path.append(self.start_tree[idx])
            idx = self.start_parents[idx]
        path.reverse()

        idx = meeting_idx
        goal_path = []
        while idx != -1:
            goal_path.append(self.goal_tree[idx])
            idx = self.goal_parents[idx]
        
        path.extend(goal_path)
        return path

    def plan(self):
        use_start_tree = True
        
        for _ in range(self.max_iterations):
            random_point = self.sample()
            
            if use_start_tree:
                success = self.extend(self.start_tree, self.start_parents, random_point)
            else:
                success = self.extend(self.goal_tree, self.goal_parents, random_point)
            
            if success:
                connected, meet_idx = self.trees_connected(self.start_tree, self.goal_tree)
                if connected:
                    print(f"Connected after {len(self.start_tree) + len(self.goal_tree)} nodes.")
                    return self.build_path(self.start_parents, self.goal_parents, meet_idx)

            use_start_tree = not use_start_tree

        print("Failed to connect within max iterations.")
        return None

# ===============================
# 绘制路径和障碍物
# ===============================

def plot_path(path, obstacles):
    fig, ax = plt.subplots()

    if path:
        xs, ys = zip(*path)
        ax.plot(xs, ys, marker='o', color='blue', label='Path')
    else:
        print("No path to plot.")

    for obs in obstacles:
        rect = plt.Rectangle((obs[0], obs[1]), obs[2] - obs[0], obs[3] - obs[1], color='red', alpha=0.5)
        ax.add_patch(rect)

    ax.set_xlim(0, 1)
    ax.set_ylim(0, 1)
    ax.grid(True)
    ax.set_aspect('equal')
    plt.legend()
    plt.title('Bidirectional RRT with Rectangular Obstacles')
    plt.show()

# ===============================
# 主程序
# ===============================

start = [0.1, 0.1]
goal = [0.9, 0.9]
x_range = (0.0, 1.0)
y_range = (0.0, 1.0)

obstacles = [
    [0.3, 0.3, 0.6, 0.5],
    [0.6, 0.6, 0.8, 0.9]
]

with strategy.scope():
    planner = BiRRTWithRectObstacles(start, goal, x_range, y_range, obstacles, step_size=0.05, connect_threshold=0.05, max_iterations=5000)
    path = planner.plan()

plot_path(path, obstacles)
